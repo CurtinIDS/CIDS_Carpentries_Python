{
 "cells": [
  {
   "cell_type": "markdown",
   "metadata": {},
   "source": [
    "# Colab ONLY!\n",
    "\u2757 This notebook is designed to run on Google Colab.   \n",
    "\ud83c\udf89 These top few cells should install the nescessary libraries needed and set you up to be able to run the rest of the notebook!\n",
    "\n",
    "You should already have a Google account ready to go!\n",
    "\n",
    "To bore you with details, these cells will:\n",
    "- Install needed packages which are not already installed Google Colab\n",
    "- Download the required data and extract it where it is needed\n",
    "\n",
    "### \ud83e\uddd9\u200d\u2640\ufe0f Wizards\n",
    "\ud83e\uddd9\u200d\u2642\ufe0f If you're a wizard, here's some info about colab you may want to know:\n",
    "- Each Colab notebook runs on its own temporary Linux virtual machine with its own filesystem.   \n",
    "- If your notebook is shutdown, this will delete the temporary instance - this is why you need to mount Google Drive\n",
    "- Colab seems to let you have about 3 notebook instances running at any time; each of these will be on their own unique VM"
   ]
  },
  {
   "cell_type": "code",
   "metadata": {},
   "source": [
    "# Now ensure the data we need is in the correct place\n",
    "!wget --no-verbose --output-document data.tar.gz https://github.com/CurtinIDS/CIDS_Carpentries_Python/releases/download/stable/data.tar.gz\n",
    "!tar xf /content/data.tar.gz -C /content\n",
    "# Now list the contents of the data folder\n",
    "!echo \n",
    "!echo The data folder contains:\n",
    "!ls -al /content/data"
   ],
   "execution_count": null,
   "outputs": []
  },
  {
   "cell_type": "code",
   "execution_count": null,
   "metadata": {},
   "outputs": [],
   "source": [
    "# This cell has been automatically inserted from build_scripts/colab_nb_builder.py\n",
    "# It should make this notebook google-colab compatible!\n",
    "\n!pip install -q --upgrade pip \n",
    "!pip install -q ipykernel\n",
    "!pip install -q numpy\n",
    "!pip install -q matplotlib\n",
    "!pip install -q pandas",
    "\n!echo All done! "
   ]
  },
  {
   "cell_type": "markdown",
   "metadata": {},
   "source": [
    "# CIDS Carpentries Workshop - Episode 8 - Creating Functions\n",
    "This lesson is adapted from the Software Carpentries [Programming with Python](https://swcarpentry.github.io/python-novice-inflammation/index.html) lesson.\n",
    "\n",
    "---"
   ]
  },
  {
   "cell_type": "markdown",
   "metadata": {},
   "source": [
    "## \u2753 Questions and Objectives\n",
    "What should you be able to answer by the end of this episode?\n",
    "\n",
    "### Questions\n",
    "- How can I define new functions?\n",
    "- What's the difference between defining and calling a function?\n",
    "- What happens when I call a function?\n",
    "\n",
    "\n",
    "### Objectives\n",
    "- Define a function that takes parameters.\n",
    "- Return a value from a function.\n",
    "- Test and debug a function.\n",
    "- Set default values for function parameters.\n",
    "- Explain why we should divide programs into small, single-purpose functions.\n",
    "\n",
    "---\n"
   ]
  },
  {
   "cell_type": "markdown",
   "metadata": {},
   "source": [
    "## Python Functions\n",
    "\n",
    "At this point, we\u2019ve seen that code can have Python make decisions about what it sees in our data. \n",
    "\n",
    "What if we want to convert some of our data, like taking a temperature in Fahrenheit and converting it to Celsius. We could write something like this for converting a single number:"
   ]
  },
  {
   "cell_type": "code",
   "execution_count": null,
   "metadata": {},
   "outputs": [],
   "source": [
    "# Convert Fahrenheit to Celsius\n"
   ]
  },
  {
   "cell_type": "markdown",
   "metadata": {},
   "source": [
    "and for a second number we could just copy the line and rename the variables."
   ]
  },
  {
   "cell_type": "code",
   "execution_count": null,
   "metadata": {},
   "outputs": [],
   "source": [
    "# Convert Fahrenheit to Celsius again\n"
   ]
  },
  {
   "cell_type": "markdown",
   "metadata": {},
   "source": [
    "But we would be in trouble as soon as we had to do this more than a couple times. \n",
    "\n",
    "Cutting and pasting it is going to make our code get very long and very repetitive, very quickly. We\u2019d like a way to package our code so that it is easier to reuse, a shorthand way of re-executing longer pieces of code. In Python we can use *\u2018functions\u2019*!\n",
    "\n",
    "Let\u2019s start by defining a function `fahr_to_celsius` that converts temperatures from Fahrenheit to Celsius:"
   ]
  },
  {
   "cell_type": "code",
   "execution_count": null,
   "metadata": {},
   "outputs": [],
   "source": [
    "# Define a function to convert Fahrenheit to Celsius\n",
    "\n",
    "\n",
    "# Define a function to convert Fahrenheit to Celsius more efficiently\n"
   ]
  },
  {
   "cell_type": "markdown",
   "metadata": {},
   "source": [
    "![farh_to_celcius-explained](../assets/python-function.svg)"
   ]
  },
  {
   "cell_type": "markdown",
   "metadata": {},
   "source": [
    "The function definition opens with the keyword `def` followed by the name of the function (`fahr_to_celsius`) and a parenthesized list of parameter names (`temp`). \n",
    "\n",
    "The body of the function \u2014 the statements that are executed when it runs \u2014 is indented below the definition line. The body concludes with a `return` keyword followed by the return value.\n",
    "\n",
    "When we call the function, the values we pass to it are assigned to those variables so that we can use them inside the function. Inside the function, we use a return statement to send a result back to whoever asked for it.\n",
    "\n",
    "Let\u2019s try running our function."
   ]
  },
  {
   "cell_type": "code",
   "execution_count": null,
   "metadata": {},
   "outputs": [],
   "source": [
    "# Call the function with a value of 32\n"
   ]
  },
  {
   "cell_type": "markdown",
   "metadata": {},
   "source": [
    "The command should call our function, using \"32\" as the input and return the function value.\n",
    "\n",
    "In fact, calling our function is no different from calling any other function:"
   ]
  },
  {
   "cell_type": "code",
   "execution_count": null,
   "metadata": {},
   "outputs": [],
   "source": [
    "# Print the results of the function\n"
   ]
  },
  {
   "cell_type": "markdown",
   "metadata": {},
   "source": [
    "We\u2019ve successfully called the function that we defined, and we have access to the value that we returned.\n",
    "\n",
    "---"
   ]
  },
  {
   "cell_type": "markdown",
   "metadata": {},
   "source": [
    "## Composing Functions\n",
    "Now that we\u2019ve seen how to turn Fahrenheit into Celsius, we can also write the function to turn Celsius into Kelvin:"
   ]
  },
  {
   "cell_type": "code",
   "execution_count": null,
   "metadata": {},
   "outputs": [],
   "source": [
    "# Define a function to convert Celsius to Kelvin\n",
    "\n",
    "# Print the results of the function\n"
   ]
  },
  {
   "cell_type": "markdown",
   "metadata": {},
   "source": [
    "What about converting Fahrenheit to Kelvin? We could write out the formula, but we don\u2019t need to. Instead, we can compose the two functions we have already created:"
   ]
  },
  {
   "cell_type": "code",
   "execution_count": null,
   "metadata": {},
   "outputs": [],
   "source": [
    "# Chaining functions together to convert Fahrenheit to Kelvin\n",
    "\n",
    "# Print the results of the function\n"
   ]
  },
  {
   "cell_type": "markdown",
   "metadata": {},
   "source": [
    "This is our first taste of how larger programs are built: \n",
    "- we define basic operations, then combine them in ever-larger chunks to get the effect we want. \n",
    "\n",
    "Real-life functions will usually be larger than the ones shown here \u2014 typically half a dozen to a few dozen lines \u2014 but they shouldn\u2019t ever be much longer than that, or the next person who reads it won\u2019t be able to understand what\u2019s going on.\n",
    "\n",
    "---"
   ]
  },
  {
   "cell_type": "markdown",
   "metadata": {},
   "source": [
    "## Variable Scope\n",
    "\n",
    "In composing our temperature conversion functions, we created variables inside of those functions, `temp`, `temp_c`, `temp_f`, and `temp_k`. We refer to these variables as local variables because they no longer exist once the function is done executing. If we try to access their values outside of the function, we will encounter an error:"
   ]
  },
  {
   "cell_type": "code",
   "execution_count": null,
   "metadata": {},
   "outputs": [],
   "source": [
    "# Calling a variable that is defined within a function\n"
   ]
  },
  {
   "cell_type": "markdown",
   "metadata": {},
   "source": [
    "If you want to reuse the temperature in Kelvin after you have calculated it with `fahr_to_kelvin`, you can store the result of the function call in a variable:"
   ]
  },
  {
   "cell_type": "code",
   "execution_count": null,
   "metadata": {},
   "outputs": [],
   "source": [
    "# Assigning the result of the function to a variable\n"
   ]
  },
  {
   "cell_type": "markdown",
   "metadata": {},
   "source": [
    "The variable `temp_kelvin`, being defined outside any function, is said to be **global**.\n",
    "\n",
    "Inside a function, one can read the value of such global variables."
   ]
  },
  {
   "cell_type": "code",
   "execution_count": null,
   "metadata": {},
   "outputs": [],
   "source": [
    "# Accessing global variables from within a function\n"
   ]
  },
  {
   "cell_type": "markdown",
   "metadata": {},
   "source": [
    "---\n",
    "\n",
    "## Tidying Up\n",
    "\n",
    "No we know how to wrap bits of code up in functions, we can make our inflammation analysis easier to read and easier to re-use. First, let's make a `visualise` function that generates our plots:"
   ]
  },
  {
   "cell_type": "code",
   "execution_count": null,
   "metadata": {},
   "outputs": [],
   "source": [
    "# Importing libraries\n",
    "import numpy as np\n",
    "import matplotlib.pyplot as plt"
   ]
  },
  {
   "cell_type": "code",
   "execution_count": null,
   "metadata": {},
   "outputs": [],
   "source": [
    "# Define a function to visualise data based on the code from the previous lesson\n",
    "def visualise(filename):\n",
    "    data = np.loadtxt(fname=filename, delimiter=\",\")\n",
    "    fig = plt.figure(figsize=(10.0, 3.0))\n",
    "\n",
    "    axes1 = fig.add_subplot(1, 3, 1)\n",
    "    axes2 = fig.add_subplot(1, 3, 2)\n",
    "    axes3 = fig.add_subplot(1, 3, 3)\n",
    "\n",
    "    axes1.set_ylabel(\"average\")\n",
    "    axes1.plot(np.mean(data, axis=0))\n",
    "\n",
    "    axes2.set_ylabel(\"max\")\n",
    "    axes2.plot(np.max(data, axis=0))\n",
    "\n",
    "    axes3.set_ylabel(\"min\")\n",
    "    axes3.plot(np.min(data, axis=0))\n",
    "\n",
    "    fig.tight_layout()\n",
    "    plt.show()"
   ]
  },
  {
   "cell_type": "markdown",
   "metadata": {},
   "source": [
    "and another function called `detect_problems` that checks for those systematics we noticed:"
   ]
  },
  {
   "cell_type": "code",
   "execution_count": null,
   "metadata": {},
   "outputs": [],
   "source": [
    "# Define a function to detect problems in the data based on the code from the previous lesson\n",
    "def detect_problems(filename):\n",
    "    data = np.loadtxt(fname=filename, delimiter=\",\")\n",
    "\n",
    "    if np.amax(data, axis=0)[0] == 0 and np.amax(data, axis=0)[20] == 20:\n",
    "        print(\"Suspicious looking maxima!\")\n",
    "    elif np.sum(np.amin(data, axis=0)) == 0:\n",
    "        print(\"Minima add up to zero!\")\n",
    "    else:\n",
    "        print(\"Seems OK!\")"
   ]
  },
  {
   "cell_type": "markdown",
   "metadata": {},
   "source": [
    "\u2757 Wait! Didn\u2019t we forget to specify what both of these functions should return? \n",
    "\n",
    "Well, we didn\u2019t. In Python, functions are not required to include a `return` statement and can be used for the sole purpose of grouping together pieces of code that conceptually do one thing. In such cases, function names usually describe what they do, e.g. `visualise`, `detect_problems`.\n",
    "\n"
   ]
  },
  {
   "cell_type": "markdown",
   "metadata": {},
   "source": [
    "Notice that rather than jumbling this code together in one giant `for` loop, we can now read and reuse both ideas separately.\n",
    "\n",
    "We can reproduce the previous analysis with a much simpler for loop:"
   ]
  },
  {
   "cell_type": "code",
   "execution_count": null,
   "metadata": {},
   "outputs": [],
   "source": [
    "# Importing libraries\n",
    "import glob"
   ]
  },
  {
   "cell_type": "code",
   "execution_count": null,
   "metadata": {},
   "outputs": [],
   "source": [
    "# Applying the functions in a loop\n",
    "filenames = sorted(glob.glob(\"../data/inflammation*.csv\"))\n",
    "\n",
    "for filename in filenames[:3]:\n",
    "    print(filename)\n",
    "    visualise(filename)\n",
    "    detect_problems(filename)"
   ]
  },
  {
   "cell_type": "markdown",
   "metadata": {},
   "source": [
    "By giving our functions human-readable names, we can more easily read and understand what is happening in the `for` loop. Even better, if at some later date we want to use either of those pieces of code again, we can do so in a single line.\n",
    "\n",
    "---"
   ]
  },
  {
   "cell_type": "markdown",
   "metadata": {},
   "source": [
    "## Testing and Documenting\n",
    "\n",
    "Once we start putting things in functions so that we can re-use them, we need to start testing that those functions are working correctly. \n",
    "\n",
    "To see how to do this, let\u2019s write a function to offset a dataset so that it\u2019s mean value shifts to a user-defined value:"
   ]
  },
  {
   "cell_type": "code",
   "execution_count": null,
   "metadata": {},
   "outputs": [],
   "source": [
    "# Define a function to offset the mean of the data\n"
   ]
  },
  {
   "cell_type": "markdown",
   "metadata": {},
   "source": [
    "We could test this on our actual data, but since we don\u2019t know what the values ought to be, it will be hard to tell if the result was correct. \n",
    "\n",
    "Instead, let\u2019s use NumPy to create a matrix of 0\u2019s and then offset its values to have a mean value of 3:\n"
   ]
  },
  {
   "cell_type": "code",
   "execution_count": null,
   "metadata": {},
   "outputs": [],
   "source": [
    "# Test the function with a simple array\n"
   ]
  },
  {
   "cell_type": "markdown",
   "metadata": {},
   "source": [
    "That looks right, so let\u2019s try `offset_mean` on our real data:\n"
   ]
  },
  {
   "cell_type": "code",
   "execution_count": null,
   "metadata": {},
   "outputs": [],
   "source": [
    "# Test the function with our data\n"
   ]
  },
  {
   "cell_type": "markdown",
   "metadata": {},
   "source": [
    "It\u2019s hard to tell from the default output whether the result is correct, but there are a few tests that we can run to reassure us:"
   ]
  },
  {
   "cell_type": "code",
   "execution_count": null,
   "metadata": {},
   "outputs": [],
   "source": []
  },
  {
   "cell_type": "markdown",
   "metadata": {},
   "source": [
    "That seems almost right: the original mean was about 6.1, so the lower bound from zero is now about -6.1. \n",
    "\n",
    "The mean of the offset data isn\u2019t quite zero, but it\u2019s pretty close. We can even go further and check that the standard deviation hasn\u2019t changed:"
   ]
  },
  {
   "cell_type": "code",
   "execution_count": null,
   "metadata": {},
   "outputs": [],
   "source": []
  },
  {
   "cell_type": "markdown",
   "metadata": {},
   "source": [
    "Those values look the same, but we probably wouldn\u2019t notice if they were different in the sixth decimal place. Let\u2019s do this instead:"
   ]
  },
  {
   "cell_type": "code",
   "execution_count": null,
   "metadata": {},
   "outputs": [],
   "source": []
  },
  {
   "cell_type": "markdown",
   "metadata": {},
   "source": [
    "Everything looks good, and we should probably get back to doing our analysis. We have one more task first, though: we should write some documentation for our function to remind ourselves later what it\u2019s for and how to use it.\n",
    "\n",
    "The usual way to put documentation in software is to add comments like this:"
   ]
  },
  {
   "cell_type": "code",
   "execution_count": null,
   "metadata": {},
   "outputs": [],
   "source": []
  },
  {
   "cell_type": "markdown",
   "metadata": {},
   "source": [
    "There\u2019s a better way, though. If the first thing in a function is a string that isn\u2019t assigned to a variable, that string is attached to the function as its documentation:\n"
   ]
  },
  {
   "cell_type": "code",
   "execution_count": null,
   "metadata": {},
   "outputs": [],
   "source": []
  },
  {
   "cell_type": "markdown",
   "metadata": {},
   "source": [
    "This is better because we can now ask Python\u2019s built-in help system to show us the documentation for the function:"
   ]
  },
  {
   "cell_type": "code",
   "execution_count": null,
   "metadata": {},
   "outputs": [],
   "source": []
  },
  {
   "cell_type": "markdown",
   "metadata": {},
   "source": [
    "A string like this is called a docstring. We don\u2019t need to use triple quotes when we write one, but if we do, we can break the string across multiple lines:"
   ]
  },
  {
   "cell_type": "code",
   "execution_count": null,
   "metadata": {},
   "outputs": [],
   "source": []
  },
  {
   "cell_type": "markdown",
   "metadata": {},
   "source": [
    "---\n",
    "\n",
    "## Defining Defaults\n",
    "\n",
    "We have passed parameters to functions in two ways: directly, as in `type(data)`, and by name, as in `np.loadtxt(fname='something.csv', delimiter=',')`. In fact, we can pass the filename to loadtxt without the `fname=`:"
   ]
  },
  {
   "cell_type": "code",
   "execution_count": null,
   "metadata": {},
   "outputs": [],
   "source": [
    "# Loading our data with named arguments\n"
   ]
  },
  {
   "cell_type": "markdown",
   "metadata": {},
   "source": [
    "but we still need to say `delimiter=`:"
   ]
  },
  {
   "cell_type": "code",
   "execution_count": null,
   "metadata": {},
   "outputs": [],
   "source": [
    "# Loading our data without named arguments\n"
   ]
  },
  {
   "cell_type": "markdown",
   "metadata": {},
   "source": [
    "To understand what\u2019s going on, and make our own functions easier to use, let\u2019s re-define our `offset_mean` function like this:"
   ]
  },
  {
   "cell_type": "code",
   "execution_count": null,
   "metadata": {},
   "outputs": [],
   "source": []
  },
  {
   "cell_type": "markdown",
   "metadata": {},
   "source": [
    "The key change is that the second parameter is now written `target_mean_value=0.0` instead of just `target_mean_value`. \n",
    "\n",
    "If we call the function with two arguments, it works as it did before:"
   ]
  },
  {
   "cell_type": "code",
   "execution_count": null,
   "metadata": {},
   "outputs": [],
   "source": [
    "# Testing our function with two arguments\n"
   ]
  },
  {
   "cell_type": "markdown",
   "metadata": {},
   "source": [
    "But we can also now call it with just one parameter, in which case `target_mean_value` is automatically assigned the default value of `0.0`:"
   ]
  },
  {
   "cell_type": "code",
   "execution_count": null,
   "metadata": {},
   "outputs": [],
   "source": [
    "# Testing our function with defaults\n"
   ]
  },
  {
   "cell_type": "markdown",
   "metadata": {},
   "source": [
    "This is handy: if we usually want a function to work one way, but occasionally need it to do something else, we can allow people to pass a parameter when they need to but provide a default to make the normal case easier. \n",
    "\n",
    "The example below shows how Python matches values to parameters:"
   ]
  },
  {
   "cell_type": "code",
   "execution_count": null,
   "metadata": {},
   "outputs": [],
   "source": []
  },
  {
   "cell_type": "markdown",
   "metadata": {},
   "source": [
    "As this example shows, parameters are matched up from left to right, and any that haven\u2019t been given a value explicitly get their default value. We can override this behavior by naming the value as we pass it in:"
   ]
  },
  {
   "cell_type": "code",
   "execution_count": null,
   "metadata": {},
   "outputs": [],
   "source": []
  },
  {
   "cell_type": "markdown",
   "metadata": {},
   "source": [
    "With that in hand, let\u2019s look at the help for `np.loadtxt`:"
   ]
  },
  {
   "cell_type": "code",
   "execution_count": null,
   "metadata": {},
   "outputs": [],
   "source": []
  },
  {
   "cell_type": "markdown",
   "metadata": {},
   "source": [
    "There\u2019s a lot of information here, but the most important part is the first couple of lines.\n",
    "\n",
    "It tells us that `loadtxt` has one parameter called `fname` that doesn\u2019t have a default value, and eight others that do. \n",
    "\n",
    "If we call the function like this:"
   ]
  },
  {
   "cell_type": "code",
   "execution_count": null,
   "metadata": {},
   "outputs": [],
   "source": []
  },
  {
   "cell_type": "markdown",
   "metadata": {},
   "source": [
    "then the filename is assigned to `fname` (which is what we want), but the delimiter string `','` is assigned to `dtype` rather than `delimiter`, because dtype is the second parameter in the list. However `','` isn\u2019t a known `dtype` so our code produced an error message when we tried to run it. \n",
    "\n",
    "When we call `loadtxt` we don\u2019t have to provide `fname=` for the filename because it\u2019s the first item in the list, but if we want the `','` to be assigned to the variable `delimiter`, we *do* have to provide `delimiter=` for the second parameter since delimiter is not the second parameter in the list.\n",
    "\n",
    "---"
   ]
  },
  {
   "cell_type": "markdown",
   "metadata": {},
   "source": [
    "## Readable Functions\n",
    "\n",
    "Consider these two functions:\n"
   ]
  },
  {
   "cell_type": "code",
   "execution_count": null,
   "metadata": {},
   "outputs": [],
   "source": [
    "# Example of an unreadable function\n",
    "def s(p):\n",
    "    a = 0\n",
    "    for v in p:\n",
    "        a += v\n",
    "    m = a / len(p)\n",
    "    d = 0\n",
    "    for v in p:\n",
    "        d += (v - m) * (v - m)\n",
    "    return np.sqrt(d / (len(p) - 1))\n"
   ]
  },
  {
   "cell_type": "code",
   "execution_count": null,
   "metadata": {},
   "outputs": [],
   "source": [
    "# Example of a readable function\n",
    "def std_dev(sample):\n",
    "    sample_sum = 0\n",
    "    for value in sample:\n",
    "        sample_sum += value\n",
    "\n",
    "    sample_mean = sample_sum / len(sample)\n",
    "\n",
    "    sum_squared_devs = 0\n",
    "    for value in sample:\n",
    "        sum_squared_devs += (value - sample_mean) * (value - sample_mean)\n",
    "\n",
    "    return np.sqrt(sum_squared_devs / (len(sample) - 1))"
   ]
  },
  {
   "cell_type": "markdown",
   "metadata": {},
   "source": [
    "The functions `s` and `std_dev` are computationally equivalent (they both calculate the sample standard deviation), but to a human reader, they look very different. You probably found `std_dev` much easier to read and understand than `s`.\n",
    "\n",
    "As this example illustrates, both documentation and a programmer\u2019s coding style combine to determine how easy it is for others to read and understand the programmer\u2019s code. Choosing meaningful variable names and using blank spaces to break the code into logical \u201cchunks\u201d are helpful techniques for producing *readable code*. This is useful not only for sharing code with others, but also for the original programmer. If you need to revisit code that you wrote months ago and haven\u2019t thought about since then, you will appreciate the value of readable code!"
   ]
  },
  {
   "cell_type": "markdown",
   "metadata": {},
   "source": [
    "---\n",
    "\n",
    "## \ud83c\udfc6 Exercises"
   ]
  },
  {
   "cell_type": "markdown",
   "metadata": {},
   "source": [
    "### \u270f\ufe0f Exercise 1 : Combining Strings\n",
    "\n",
    "\u201cAdding\u201d two strings produces their concatenation: 'a' + 'b' is 'ab'. \n",
    "\n",
    "Write a function called `fence` that takes two parameters called `original` and `wrapper` and returns a new string that has the wrapper character at the beginning and end of the original. A call to your function should look like this:"
   ]
  },
  {
   "cell_type": "code",
   "execution_count": null,
   "metadata": {},
   "outputs": [],
   "source": [
    "print(fence('name', '*'))"
   ]
  },
  {
   "cell_type": "code",
   "execution_count": null,
   "metadata": {},
   "outputs": [],
   "source": [
    "# Insert your code here"
   ]
  },
  {
   "cell_type": "markdown",
   "metadata": {},
   "source": [
    "### \u270f\ufe0f Exercise 2 : Return versus Print\n",
    "\n",
    "Note that `return` and `print` are not interchangeable. \n",
    "\n",
    "`print` is a Python function that prints data to the screen. It enables us, users, see the data. \n",
    "\n",
    "`return` statement, on the other hand, makes data visible to the program. Let\u2019s have a look at the following function:"
   ]
  },
  {
   "cell_type": "code",
   "execution_count": null,
   "metadata": {},
   "outputs": [],
   "source": [
    "def add(a, b):\n",
    "    print(a + b)"
   ]
  },
  {
   "cell_type": "markdown",
   "metadata": {},
   "source": [
    "Question: What will we see if we execute the following commands?"
   ]
  },
  {
   "cell_type": "code",
   "execution_count": null,
   "metadata": {},
   "outputs": [],
   "source": [
    "A = add(7, 3)\n",
    "print(A)"
   ]
  },
  {
   "cell_type": "markdown",
   "metadata": {},
   "source": [
    "### \u270f\ufe0f Exercise 3 : Selecting Characters from Strings\n",
    "\n",
    "If the variable `s` refers to a string, then `s[0]` is the string\u2019s first character and `s[-1]` is its last. \n",
    "\n",
    "Write a function called `outer` that returns a string made up of just the first and last characters of its input. \n",
    "\n",
    "A call to your function should look like this:"
   ]
  },
  {
   "cell_type": "code",
   "execution_count": null,
   "metadata": {},
   "outputs": [],
   "source": [
    "print(outer('helium'))"
   ]
  },
  {
   "cell_type": "markdown",
   "metadata": {},
   "source": [
    "### \u270f\ufe0f Exercise 4 : Rescaling an Array\n",
    "\n",
    "Write a function `rescale` that takes an array as input and returns a corresponding array of values scaled to lie in the range 0.0 to 1.0. \n",
    "\n",
    "*(Hint: If L and H are the lowest and highest values in the original array, then the replacement for a value v should be (v-L) / (H-L).)*"
   ]
  },
  {
   "cell_type": "code",
   "execution_count": null,
   "metadata": {},
   "outputs": [],
   "source": [
    "# Insert your code here"
   ]
  },
  {
   "cell_type": "markdown",
   "metadata": {},
   "source": [
    "### \u270f\ufe0f Exercise 5 : Testing and Documenting your Function\n",
    "\n",
    "Run the commands `help(np.arange)` and `help(np.linspace)` to see how to use these functions to generate regularly-spaced values, then use those values to test your rescale function. \n",
    "\n",
    "Once you\u2019ve successfully tested your function, add a docstring that explains what it does."
   ]
  },
  {
   "cell_type": "code",
   "execution_count": null,
   "metadata": {},
   "outputs": [],
   "source": [
    "# Insert your code here"
   ]
  },
  {
   "cell_type": "code",
   "execution_count": null,
   "metadata": {},
   "outputs": [],
   "source": [
    "# Insert your code here"
   ]
  },
  {
   "cell_type": "markdown",
   "metadata": {},
   "source": [
    "### \u270f\ufe0f Exercise 6 : Defining Defaults\n",
    "\n",
    "Rewrite the `rescale` function so that it scales data to lie between `0.0` and `1.0` by default, but will allow the caller to specify lower and upper bounds if they want. \n",
    "\n",
    "Compare your implementation to your neighbor\u2019s: do the two functions always behave the same way?"
   ]
  },
  {
   "cell_type": "code",
   "execution_count": null,
   "metadata": {},
   "outputs": [],
   "source": [
    "# Insert your code here"
   ]
  },
  {
   "cell_type": "markdown",
   "metadata": {},
   "source": [
    "### \u270f\ufe0f Exercise 7 : Variables Inside and Outside Functions\n",
    "\n",
    "What does the following piece of code display when run \u2014 and why?"
   ]
  },
  {
   "cell_type": "code",
   "execution_count": null,
   "metadata": {},
   "outputs": [],
   "source": [
    "f = 0\n",
    "k = 0\n",
    "\n",
    "def f2k(f):\n",
    "    k = ((f - 32) * (5.0 / 9.0)) + 273.15\n",
    "    return k\n",
    "\n",
    "print(f2k(8))\n",
    "print(f2k(41))\n",
    "print(f2k(32))\n",
    "\n",
    "print(k)"
   ]
  },
  {
   "cell_type": "markdown",
   "metadata": {},
   "source": []
  },
  {
   "cell_type": "markdown",
   "metadata": {},
   "source": [
    "### \u270f\ufe0f Exercise 8 : Mixing Default and Non-Default Parameters\n",
    "\n",
    "Given the following code:"
   ]
  },
  {
   "cell_type": "code",
   "execution_count": null,
   "metadata": {},
   "outputs": [],
   "source": [
    "def numbers(one, two=2, three, four=4):\n",
    "    n = str(one) + str(two) + str(three) + str(four)\n",
    "    return n\n",
    "\n",
    "print(numbers(1, three=3))"
   ]
  },
  {
   "cell_type": "markdown",
   "metadata": {},
   "source": [
    "what do you expect will be printed? What is actually printed? What rule do you think Python is following?\n",
    "\n",
    "1. 1234\n",
    "2. one2three4\n",
    "3. 1239\n",
    "4. SyntaxError"
   ]
  },
  {
   "cell_type": "markdown",
   "metadata": {},
   "source": []
  },
  {
   "cell_type": "markdown",
   "metadata": {},
   "source": [
    "Given that, what does the following piece of code display when run?\n",
    "\n",
    "1. a: b: 3 c: 6\n",
    "2. a: -1 b: 3 c: 6\n",
    "3. a: -1 b: 2 c: 6\n",
    "4. a: b: -1 c: 2"
   ]
  },
  {
   "cell_type": "code",
   "execution_count": null,
   "metadata": {},
   "outputs": [],
   "source": [
    "def func(a, b=3, c=6):\n",
    "    print(\"a: \", a, \"b: \", b, \"c:\", c)\n",
    "\n",
    "\n",
    "func(-1, 2)"
   ]
  },
  {
   "cell_type": "markdown",
   "metadata": {},
   "source": []
  },
  {
   "cell_type": "markdown",
   "metadata": {},
   "source": [
    "### \u270f\ufe0f Exercise 10 : Readable Code\n",
    "\n",
    "Revise a function you wrote for one of the previous exercises to try to make the code more readable. \n",
    "\n",
    "Then, collaborate with one of your neighbors to critique each other\u2019s functions and discuss how your function implementations could be further improved to make them more readable."
   ]
  },
  {
   "cell_type": "code",
   "execution_count": null,
   "metadata": {},
   "outputs": [],
   "source": []
  },
  {
   "cell_type": "markdown",
   "metadata": {},
   "source": [
    "---\n",
    "\n",
    "## \ud83d\udd11 Key Points\n",
    "- Define a function using `def function_name(parameter)`\n",
    "- The body of a function must be indented.\n",
    "- Call a function usnig `function_name(value)`\n",
    "- Numbers are stored as integers or floating-point numbers.\n",
    "- Variables defined within a function can only be seen and used within the body of the function.\n",
    "- Variables created outside of any function are called global variables.\n",
    "- Within a function, we can access global variables.\n",
    "- Variables created within a function override global variables if their names match.\n",
    "- Use `help(thing)` to view help for something.\n",
    "- Put docstrings in functions to provide help for that function.\n",
    "- Specify default parameters when defining a function using `name=value` in the parameter list.\n",
    "- Parameters can be passed by matching based on name, by position, or by omitting them (in which case the default value is used).\n",
    "- Put code whose parameters change frequently in a function, then call it with different parameter values to customise its behaviour.\n",
    "\n"
   ]
  }
 ],
 "metadata": {
  "kernelspec": {
   "display_name": "Python 3",
   "language": "python",
   "name": "python3"
  },
  "language_info": {
   "codemirror_mode": {
    "name": "ipython",
    "version": 3
   },
   "file_extension": ".py",
   "mimetype": "text/x-python",
   "name": "python",
   "nbconvert_exporter": "python",
   "pygments_lexer": "ipython3",
   "version": "3.12.4"
  }
 },
 "nbformat": 4,
 "nbformat_minor": 2
}