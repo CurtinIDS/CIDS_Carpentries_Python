{
 "cells": [
  {
   "cell_type": "markdown",
   "metadata": {},
   "source": [
    "# Colab ONLY!\n",
    "❗ This notebook is designed to run on Google Colab.   \n",
    "🎉 These top few cells should install the nescessary libraries needed and set you up to be able to run the rest of the notebook!\n",
    "\n",
    "You should already have a Google account ready to go!\n",
    "\n",
    "To bore you with details, these cells will:\n",
    "- Install needed packages which are not already installed Google Colab\n",
    "- Download the required data and extract it where it is needed\n",
    "\n",
    "### 🧙‍♀️ Wizards\n",
    "🧙‍♂️ If you're a wizard, here's some info about colab you may want to know:\n",
    "- Each Colab notebook runs on its own temporary Linux virtual machine with its own filesystem.   \n",
    "- If your notebook is shutdown, this will delete the temporary instance - you can [mount your google drive](https://colab.research.google.com/notebooks/io.ipynb#scrollTo=u22w3BFiOveA) to persist files\n",
    "- Colab seems to let you have about 3 notebook instances running at any time; each of these will be on their own unique VM"
   ]
  },
  {
   "cell_type": "code",
   "execution_count": null,
   "metadata": {},
   "outputs": [],
   "source": [
    "# Now ensure the data we need is in the correct place\n",
    "!wget --no-verbose --output-document data.tar.gz https://github.com/CurtinIDS/CIDS_Carpentries_Python/releases/download/stable/data.tar.gz\n",
    "!tar xf /content/data.tar.gz -C /content\n",
    "# Now list the contents of the data folder\n",
    "!echo \n",
    "!echo The data folder contains:\n",
    "!ls -al /content/data"
   ]
  },
  {
   "cell_type": "code",
   "execution_count": null,
   "metadata": {},
   "outputs": [],
   "source": [
    "# This cell has been automatically inserted from build_scripts/colab_nb_builder.py\n",
    "# It should make this notebook google-colab compatible!\n",
    "\n",
    "!pip install -q --upgrade pip \n",
    "!pip install -q ipykernel\n",
    "!pip install -q numpy\n",
    "!pip install -q matplotlib\n",
    "!pip install -q pandas\n",
    "!echo All done! "
   ]
  },
  {
   "cell_type": "markdown",
   "metadata": {},
   "source": [
    "# CIDS Carpentries Workshop - Episode 3 - Visualising Tabular Data\n",
    "This lesson is adapted from the Software Carpentries [Programming with Python](https://swcarpentry.github.io/python-novice-inflammation/index.html) lesson.\n",
    "\n",
    "---"
   ]
  },
  {
   "cell_type": "markdown",
   "metadata": {},
   "source": [
    "## ❓ Questions and Objectives\n",
    "What should you be able to answer by the end of this episode?\n",
    "\n",
    "### Questions\n",
    "- How can I visualise tabular data in Python?\n",
    "- How can I group several plots together?\n",
    "\n",
    "### Objectives\n",
    "- Plot simple graphs from data.\n",
    "- Plot multiple graphis in a single figure.\n",
    "\n",
    "---"
   ]
  },
  {
   "cell_type": "markdown",
   "metadata": {},
   "source": [
    "## Visualising Data\n",
    "Visualisation deserves an entire lecture of its own, but we can explore a few features of Python's `matplotlib` library here.\n",
    "\n",
    "While there is no official plotting library, `matplotlib` is the *de facto* standard. First, we will import the `pyplot` module from `matplotlib` and use two of its functions to create and display a heat map of our data."
   ]
  },
  {
   "cell_type": "code",
   "execution_count": null,
   "metadata": {},
   "outputs": [],
   "source": [
    "# Importing Libraries\n"
   ]
  },
  {
   "cell_type": "code",
   "execution_count": null,
   "metadata": {},
   "outputs": [],
   "source": [
    "# Reloading our data\n"
   ]
  },
  {
   "cell_type": "code",
   "execution_count": null,
   "metadata": {},
   "outputs": [],
   "source": [
    "# Plotting a heatmap of the data\n"
   ]
  },
  {
   "cell_type": "markdown",
   "metadata": {},
   "source": [
    "Each row in the heat map corresponds to a patient in the clinical trial dataset, and each column corresponds to a day in the dataset. Blue pixels in this heat map represent low values, while yellow pixels represent high values. As we can see, the general number of inflammation flare-ups for the patients rises and falls over a 40-day period.\n",
    "\n",
    "So far so good as this is in line with our knowledge of the clinical trial and Dr. Maverick’s claims:\n",
    "\n",
    "- the patients take their medication once their inflammation flare-ups begin\n",
    "- it takes around 3 weeks for the medication to take effect and begin reducing flare-ups\n",
    "- and flare-ups appear to drop to zero by the end of the clinical trial."
   ]
  },
  {
   "cell_type": "markdown",
   "metadata": {},
   "source": [
    "Now let’s take a look at the average inflammation over time:"
   ]
  },
  {
   "cell_type": "code",
   "execution_count": null,
   "metadata": {},
   "outputs": [],
   "source": [
    "# Plotting average inflammation over time\n"
   ]
  },
  {
   "cell_type": "markdown",
   "metadata": {},
   "source": [
    "Here, we have put the average inflammation per day across all patients in the variable `ave_inflammation`, then asked `matplotlib.pyplot` to create and display a line graph of those values. \n",
    "\n",
    "The result is a reasonably linear rise and fall, in line with Dr. Maverick’s claim that the medication takes 3 weeks to take effect. But a good data scientist doesn’t just consider the average of a dataset, so let’s have a look at two other statistics:"
   ]
  },
  {
   "cell_type": "code",
   "execution_count": null,
   "metadata": {},
   "outputs": [],
   "source": [
    "# Plotting max inflammation over time\n"
   ]
  },
  {
   "cell_type": "code",
   "execution_count": null,
   "metadata": {},
   "outputs": [],
   "source": [
    "# Plotting min inflammation over time\n"
   ]
  },
  {
   "cell_type": "markdown",
   "metadata": {},
   "source": [
    "The maximum value rises and falls linearly, while the minimum seems to be a step function. Neither trend seems particularly likely, so either there’s a mistake in our calculations or something is wrong with our data. This insight would have been difficult to reach by examining the numbers themselves without visualisation tools.\n",
    "\n",
    "---"
   ]
  },
  {
   "cell_type": "markdown",
   "metadata": {},
   "source": [
    "## Grouping Plots\n",
    "\n",
    "You can group similar plots in a single figure using subplots. The script below uses a number of new commands.\n",
    "\n",
    "The function `plt.figure()` creates a space into which we will place all our plots. The parameter `figsize` tells Python how big to make this space. \n",
    "\n",
    "Each subplot is placed into the figure using its `add_subplot` method. The `add_subplot` method takes 3 parameters:\n",
    "1. How many total rows of subplots there are.\n",
    "2. The total number of subplot columns.\n",
    "3. Which subplot your variable is referencing (left-to-right, top-to-bottom).\n",
    "\n",
    "Each subplot is stored in a different variable `(axes1, axes2, axes3)`. Once a subplot is created, the axes can be titled using the `set_xlabel()` command (or `set_ylabel()`).\n",
    "\n",
    "Here are our three plots side by side:"
   ]
  },
  {
   "cell_type": "code",
   "execution_count": null,
   "metadata": {},
   "outputs": [],
   "source": []
  },
  {
   "cell_type": "markdown",
   "metadata": {},
   "source": [
    "The script above tells the plotting library how large we want the figure to be, that we’re creating three subplots, what to draw for each one, and that we want a tight layout. (If we leave out that call to `fig.tight_layout()`, the graphs will actually be squeezed together more closely.)\n",
    "\n",
    "The call to `savefig` stores the plot as a graphics file. This can be a convenient way to store your plots for use in other documents, web pages etc. The graphics format is automatically determined by Matplotlib from the file name ending we specify; here PNG from ‘inflammation.png’. Matplotlib supports many different graphics formats, including SVG, PDF, and JPEG.\n",
    "\n",
    "---"
   ]
  },
  {
   "cell_type": "markdown",
   "metadata": {},
   "source": [
    "## 🏆 Exercises\n",
    "\n",
    "### ✏️ Exercise 1 : Plot Scaling\n",
    "Why do all of our plots stop just short of the upper end of our graph?\n",
    "\n",
    "Enter your answers in the below markdown cell by double-click on it, then hold shift and press enter to render it!"
   ]
  },
  {
   "cell_type": "markdown",
   "metadata": {},
   "source": []
  },
  {
   "cell_type": "markdown",
   "metadata": {},
   "source": [
    "If we want to change this, we can use the `set_ylim(min, max)` method of each 'axes', for example:\n",
    "```py\n",
    "# This code sets the y limits to between 0 and 6\n",
    "axes3.set_ylim(0, 6)\n",
    "```"
   ]
  },
  {
   "cell_type": "markdown",
   "metadata": {},
   "source": [
    "Update your plotting code to automatically set a more appropriate scale. (Hint: you can make use of the `max` and `min` methods to help.)"
   ]
  },
  {
   "cell_type": "code",
   "execution_count": null,
   "metadata": {},
   "outputs": [],
   "source": []
  },
  {
   "cell_type": "markdown",
   "metadata": {},
   "source": [
    "### ✏️ Exercise 2 : Drawing Straight Lines\n",
    "In the center and right subplots above, we expect all lines to look like step functions because non-integer values are not realistic for the minimum and maximum values. However, you can see that the lines are not always vertical or horizontal, and in particular the step function in the subplot on the right looks slanted. Why is this?\n",
    "\n",
    "Enter your answers in the below markdown cell by double-click on it, then hold shift and press enter to render it!\n"
   ]
  },
  {
   "cell_type": "markdown",
   "metadata": {},
   "source": []
  },
  {
   "cell_type": "markdown",
   "metadata": {},
   "source": [
    "### ✏️ Exercise 3 : Make Your Own Plot\n",
    "Create a plot showing the standard deviation (`np.std`) of the inflammation data for each day across patients."
   ]
  },
  {
   "cell_type": "code",
   "execution_count": null,
   "metadata": {},
   "outputs": [],
   "source": []
  },
  {
   "cell_type": "markdown",
   "metadata": {},
   "source": [
    "### ✏️ Exercise 4 : Moving Plots Around\n",
    "Modify the program to display the three plots on top of one another instead of side by side."
   ]
  },
  {
   "cell_type": "code",
   "execution_count": null,
   "metadata": {},
   "outputs": [],
   "source": []
  },
  {
   "cell_type": "markdown",
   "metadata": {},
   "source": [
    "---\n",
    "\n",
    "## 🔑 Key Points\n",
    "- Use the `pyplot` module from the `matplotlib` library for creating simple visualisations."
   ]
  }
 ],
 "metadata": {
  "kernelspec": {
   "display_name": "Python 3",
   "language": "python",
   "name": "python3"
  },
  "language_info": {
   "codemirror_mode": {
    "name": "ipython",
    "version": 3
   },
   "file_extension": ".py",
   "mimetype": "text/x-python",
   "name": "python",
   "nbconvert_exporter": "python",
   "pygments_lexer": "ipython3",
   "version": "3.12.4"
  }
 },
 "nbformat": 4,
 "nbformat_minor": 2
}
