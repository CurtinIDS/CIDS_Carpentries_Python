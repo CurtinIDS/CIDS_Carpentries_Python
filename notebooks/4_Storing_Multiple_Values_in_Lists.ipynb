{
 "cells": [
  {
   "cell_type": "markdown",
   "metadata": {},
   "source": [
    "# CIDS Carpentries Workshop - Episode 4 - Storing Multiple Values in Lists\n",
    "This lesson is adapted from the Software Carpentries [Programming with Python](https://swcarpentry.github.io/python-novice-inflammation/index.html) lesson.\n",
    "\n",
    "---"
   ]
  },
  {
   "cell_type": "markdown",
   "metadata": {},
   "source": [
    "## ❓ Questions and Objectives\n",
    "What should you be able to answer by the end of this episode?\n",
    "\n",
    "### Questions\n",
    "- How can I store many values together?\n",
    "\n",
    "### Objectives\n",
    "- Explain what a list is.\n",
    "- Create and index lists of simple values.\n",
    "- Change the values of individual elements\n",
    "- Append values to an existing list\n",
    "- Reorder and slice list elements\n",
    "- Create and manipulate nested lists\n",
    "\n",
    "---"
   ]
  },
  {
   "cell_type": "markdown",
   "metadata": {},
   "source": [
    "In the previous episode, we analysed a single file of clinical trial inflammation data. However, after finding some peculiar and potentially suspicious trends in the trial data we ask Dr. Maverick if they have performed any other clinical trials. Surprisingly, they say that they have and provide us with 11 more CSV files for a further 11 clinical trials they have undertaken since the initial trial.\n",
    "\n",
    "Our goal now is to process all the inflammation data we have, which means that we still have eleven more files to go!\n",
    "\n",
    "The natural first step is to collect the names of all the files that we have to process. In Python, a list is a way to store multiple values together. In this episode, we will learn how to store multiple values in a list as well as how to work with lists.\n",
    "\n",
    "---"
   ]
  },
  {
   "cell_type": "markdown",
   "metadata": {},
   "source": [
    "## Python Lists\n"
   ]
  },
  {
   "cell_type": "markdown",
   "metadata": {},
   "source": [
    "Unlike NumPy arrays, lists are built into the language so we do not have to load a library to use them. We create a list by putting values inside square brackets `[]` and separating the values with commas `,`."
   ]
  },
  {
   "cell_type": "code",
   "execution_count": 1,
   "metadata": {},
   "outputs": [
    {
     "name": "stdout",
     "output_type": "stream",
     "text": [
      "odds are: [1, 3, 5, 7]\n"
     ]
    }
   ],
   "source": [
    "# Example of a List\n",
    "odds = [1, 3, 5, 7]\n",
    "print(\"odds are:\", odds)"
   ]
  },
  {
   "cell_type": "markdown",
   "metadata": {},
   "source": [
    "We can access elements of a list using indices - numbered positions of elements in the list. These positions are numbered starting at 0, so the first element has an index of 0."
   ]
  },
  {
   "cell_type": "code",
   "execution_count": 2,
   "metadata": {},
   "outputs": [
    {
     "name": "stdout",
     "output_type": "stream",
     "text": [
      "first element: 1\n",
      "last element: 7\n",
      "\"-1\" element: 7\n"
     ]
    }
   ],
   "source": [
    "# Printing elements of a list\n",
    "print(\"first element:\", odds[0])\n",
    "print(\"last element:\", odds[3])\n",
    "print('\"-1\" element:', odds[-1])"
   ]
  },
  {
   "cell_type": "markdown",
   "metadata": {},
   "source": [
    "We can use negative numbers as indices in Python. When we do so, the index `-1` gives us the last element in the list, `-2` the second to last, and so on. Because of this, `odds[3]` and `odds[-1]` point to the same element here.\n",
    "\n",
    "❗ There is one important difference between lists and strings: we can change the values in a list, but we cannot change individual characters in a string. For example:"
   ]
  },
  {
   "cell_type": "code",
   "execution_count": 3,
   "metadata": {},
   "outputs": [
    {
     "name": "stdout",
     "output_type": "stream",
     "text": [
      "names is originally: ['Curie', 'Darwing', 'Turing']\n",
      "final value of names: ['Curie', 'Darwin', 'Turing']\n"
     ]
    }
   ],
   "source": [
    "# Modifying elements of a list\n",
    "names = [\"Curie\", \"Darwing\", \"Turing\"]  # typo in Darwin's name\n",
    "print(\"names is originally:\", names)\n",
    "\n",
    "names[1] = \"Darwin\"  # correct the name\n",
    "print(\"final value of names:\", names)"
   ]
  },
  {
   "cell_type": "markdown",
   "metadata": {},
   "source": [
    "works, but:"
   ]
  },
  {
   "cell_type": "code",
   "execution_count": 4,
   "metadata": {},
   "outputs": [
    {
     "ename": "TypeError",
     "evalue": "'str' object does not support item assignment",
     "output_type": "error",
     "traceback": [
      "\u001b[0;31m---------------------------------------------------------------------------\u001b[0m",
      "\u001b[0;31mTypeError\u001b[0m                                 Traceback (most recent call last)",
      "Cell \u001b[0;32mIn[4], line 3\u001b[0m\n\u001b[1;32m      1\u001b[0m \u001b[38;5;66;03m# Modifying elements of a string\u001b[39;00m\n\u001b[1;32m      2\u001b[0m name \u001b[38;5;241m=\u001b[39m \u001b[38;5;124m\"\u001b[39m\u001b[38;5;124mDarwin\u001b[39m\u001b[38;5;124m\"\u001b[39m\n\u001b[0;32m----> 3\u001b[0m \u001b[43mname\u001b[49m\u001b[43m[\u001b[49m\u001b[38;5;241;43m0\u001b[39;49m\u001b[43m]\u001b[49m \u001b[38;5;241m=\u001b[39m \u001b[38;5;124m\"\u001b[39m\u001b[38;5;124md\u001b[39m\u001b[38;5;124m\"\u001b[39m\n",
      "\u001b[0;31mTypeError\u001b[0m: 'str' object does not support item assignment"
     ]
    }
   ],
   "source": [
    "# Modifying elements of a string\n",
    "name = \"Darwin\"\n",
    "name[0] = \"d\""
   ]
  },
  {
   "cell_type": "markdown",
   "metadata": {},
   "source": [
    "does not.\n",
    "\n",
    "---"
   ]
  },
  {
   "cell_type": "markdown",
   "metadata": {},
   "source": [
    "## Mutable vs. Immutable Data\n",
    "\n",
    "Data which can be modified in place is called *mutable*, while data which cannot be modified is called *immutable*. Strings and numbers are immutable. This does not mean that variables with string or number values are constants, but when we want to change the value of a string or number variable, we can only replace the old value with a completely new value.\n",
    "\n",
    "Lists and arrays, on the other hand, are mutable: we can modify them after they have been created. We can change individual elements, append new elements, or reorder the whole list. For some operations, like sorting, we can choose whether to use a function that modifies the data in-place or a function that returns a modified copy and leaves the original unchanged.\n",
    "\n",
    "Be careful when modifying data in-place. If two variables refer to the same list, and you modify the list value, it will change for both variables!"
   ]
  },
  {
   "cell_type": "code",
   "execution_count": 38,
   "metadata": {},
   "outputs": [
    {
     "name": "stdout",
     "output_type": "stream",
     "text": [
      "Ingredients in mild salsa: ['hot peppers', 'onions', 'cilantro', 'tomatoes']\n",
      "Ingredients in hot salsa: ['hot peppers', 'onions', 'cilantro', 'tomatoes']\n"
     ]
    }
   ],
   "source": [
    "# Modifying a referencing of a list\n",
    "mild_salsa = [\"peppers\", \"onions\", \"cilantro\", \"tomatoes\"]\n",
    "hot_salsa = (\n",
    "    mild_salsa  # <-- mild_salsa and hot_salsa point to the *same* list data in memory\n",
    ")\n",
    "hot_salsa[0] = \"hot peppers\"\n",
    "\n",
    "print(\"Ingredients in mild salsa:\", mild_salsa)\n",
    "print(\"Ingredients in hot salsa:\", hot_salsa)"
   ]
  },
  {
   "cell_type": "markdown",
   "metadata": {},
   "source": [
    "If you want variables with mutable values to be independent, you must make a copy of the value when you assign it."
   ]
  },
  {
   "cell_type": "code",
   "execution_count": 6,
   "metadata": {},
   "outputs": [
    {
     "name": "stdout",
     "output_type": "stream",
     "text": [
      "Ingredients in mild salsa: ['peppers', 'onions', 'cilantro', 'tomatoes']\n",
      "Ingredients in hot salsa: ['hot peppers', 'onions', 'cilantro', 'tomatoes']\n"
     ]
    }
   ],
   "source": [
    "# Modifying a copy of a list\n",
    "mild_salsa = [\"peppers\", \"onions\", \"cilantro\", \"tomatoes\"]\n",
    "hot_salsa = mild_salsa.copy()  # <-- makes a *copy* of the list\n",
    "hot_salsa[0] = \"hot peppers\"\n",
    "print(\"Ingredients in mild salsa:\", mild_salsa)\n",
    "print(\"Ingredients in hot salsa:\", hot_salsa)"
   ]
  },
  {
   "cell_type": "markdown",
   "metadata": {},
   "source": [
    "Because of pitfalls like this, code which modifies data in place can be more difficult to understand. However, it is often far more efficient to modify a large data structure in place than to create a modified copy for every small change. You should consider both of these aspects when writing your code.\n",
    "\n",
    "---"
   ]
  },
  {
   "cell_type": "markdown",
   "metadata": {},
   "source": [
    "## Nested Lists\n",
    "\n",
    "Since a list can contain any Python variable, it can even contain other lists.\n",
    "\n",
    "For example, you could represent the products on the shelves of a small grocery store as a nested lsit called `veg`:\n",
    "\n",
    "![Groceries - Veg](../assets/04_groceries_veg.png)"
   ]
  },
  {
   "cell_type": "markdown",
   "metadata": {},
   "source": [
    "To store the contents of the shelf in a nested list, you write it this way:"
   ]
  },
  {
   "cell_type": "code",
   "execution_count": 7,
   "metadata": {},
   "outputs": [],
   "source": [
    "veg = [\n",
    "    [\"lettuce\", \"lettuce\", \"peppers\", \"zucchini\"],\n",
    "    [\"lettuce\", \"lettuce\", \"peppers\", \"zucchini\"],\n",
    "    [\"lettuce\", \"cilantro\", \"peppers\", \"zucchini\"],\n",
    "]"
   ]
  },
  {
   "cell_type": "markdown",
   "metadata": {},
   "source": [
    "Here are some visual examples of how indexing a list of lists veg works. First, you can reference each row on the shelf as a separate list. For example, veg[2] represents the bottom row, which is a list of the baskets in that row.\n",
    "\n",
    "![Vegetable Lists](../assets/04_groceries_veg0.png)"
   ]
  },
  {
   "cell_type": "markdown",
   "metadata": {},
   "source": [
    "Index operations using the image would work like this:"
   ]
  },
  {
   "cell_type": "code",
   "execution_count": 8,
   "metadata": {},
   "outputs": [
    {
     "name": "stdout",
     "output_type": "stream",
     "text": [
      "['lettuce', 'lettuce', 'peppers', 'zucchini']\n"
     ]
    }
   ],
   "source": [
    "# Accessing the first element of the list\n",
    "print(veg[0])"
   ]
  },
  {
   "cell_type": "code",
   "execution_count": 9,
   "metadata": {},
   "outputs": [
    {
     "name": "stdout",
     "output_type": "stream",
     "text": [
      "['lettuce', 'lettuce', 'peppers', 'zucchini']\n"
     ]
    }
   ],
   "source": [
    "# Accessing the second element of the list\n",
    "print(veg[1])"
   ]
  },
  {
   "cell_type": "code",
   "execution_count": 10,
   "metadata": {},
   "outputs": [
    {
     "name": "stdout",
     "output_type": "stream",
     "text": [
      "['lettuce', 'cilantro', 'peppers', 'zucchini']\n"
     ]
    }
   ],
   "source": [
    "# Accessing the third element of the list\n",
    "print(veg[2])"
   ]
  },
  {
   "cell_type": "markdown",
   "metadata": {},
   "source": [
    "To reference a specific basket on a specific shelf, you use two indexes. The first index represents the row (from top to bottom) and the second index represents the specific basket (from left to right).\n",
    "\n",
    "![Vegetables List Elements](../assets/04_groceries_veg00.png)"
   ]
  },
  {
   "cell_type": "code",
   "execution_count": 11,
   "metadata": {},
   "outputs": [
    {
     "name": "stdout",
     "output_type": "stream",
     "text": [
      "lettuce\n"
     ]
    }
   ],
   "source": [
    "# Accessing the first element of the first nested list\n",
    "print(veg[0][0])"
   ]
  },
  {
   "cell_type": "code",
   "execution_count": 12,
   "metadata": {},
   "outputs": [
    {
     "name": "stdout",
     "output_type": "stream",
     "text": [
      "peppers\n"
     ]
    }
   ],
   "source": [
    "# Accessing the third element of the second nested list\n",
    "print(veg[1][2])"
   ]
  },
  {
   "cell_type": "markdown",
   "metadata": {},
   "source": [
    "---\n",
    "\n",
    "## Modifying Python Lists\n",
    "\n",
    "There are many ways to change the contents of a lists besides assigning new values to individual elements:"
   ]
  },
  {
   "cell_type": "code",
   "execution_count": 13,
   "metadata": {},
   "outputs": [
    {
     "name": "stdout",
     "output_type": "stream",
     "text": [
      "odds after adding a value: [1, 3, 5, 7, 11]\n"
     ]
    }
   ],
   "source": [
    "# Appending to a list\n",
    "odds.append(11)\n",
    "print(\"odds after adding a value:\", odds)"
   ]
  },
  {
   "cell_type": "code",
   "execution_count": 14,
   "metadata": {},
   "outputs": [
    {
     "name": "stdout",
     "output_type": "stream",
     "text": [
      "odds after removing the first element: [3, 5, 7, 11]\n",
      "removed_element: 1\n"
     ]
    }
   ],
   "source": [
    "# Removing elements from a list\n",
    "removed_element = odds.pop(0)\n",
    "print(\"odds after removing the first element:\", odds)\n",
    "print(\"removed_element:\", removed_element)"
   ]
  },
  {
   "cell_type": "code",
   "execution_count": 15,
   "metadata": {},
   "outputs": [
    {
     "name": "stdout",
     "output_type": "stream",
     "text": [
      "odds after reversing: [11, 7, 5, 3]\n"
     ]
    }
   ],
   "source": [
    "# Reversing a list\n",
    "odds.reverse()\n",
    "print(\"odds after reversing:\", odds)"
   ]
  },
  {
   "cell_type": "markdown",
   "metadata": {},
   "source": [
    "While modifying in place, it is useful to remember that Python treats lists in a slightly counter-intutive way.\n",
    "\n",
    "As we saw earlier, when we modified the `mild_salsa` list item in-place, if we make a list, (attempt to) copy it and then modify this list, we can cause all sorts of trouble. This also applies to modifying the list using the above functions:"
   ]
  },
  {
   "cell_type": "code",
   "execution_count": 16,
   "metadata": {},
   "outputs": [
    {
     "name": "stdout",
     "output_type": "stream",
     "text": [
      "primes: [3, 5, 7, 2]\n",
      "odds: [3, 5, 7, 2]\n"
     ]
    }
   ],
   "source": [
    "# Appending to a reference of a list\n",
    "odds = [3, 5, 7]\n",
    "primes = odds\n",
    "primes.append(2)\n",
    "\n",
    "print(\"primes:\", primes)\n",
    "print(\"odds:\", odds)"
   ]
  },
  {
   "cell_type": "markdown",
   "metadata": {},
   "source": [
    "This is because Python stores a list in memory, and then can use multiple names to refer to the same list. If all we want to do is copy a (simple) list, we can again use the `copy` function, so we do not modify a list we did not mean to."
   ]
  },
  {
   "cell_type": "code",
   "execution_count": 17,
   "metadata": {},
   "outputs": [
    {
     "name": "stdout",
     "output_type": "stream",
     "text": [
      "primes: [3, 5, 7, 2]\n",
      "odds: [3, 5, 7]\n"
     ]
    }
   ],
   "source": [
    "# Appending to a copy of a list\n",
    "odds = [3, 5, 7]\n",
    "primes = odds.copy()\n",
    "primes.append(2)\n",
    "print(\"primes:\", primes)\n",
    "print(\"odds:\", odds)"
   ]
  },
  {
   "cell_type": "markdown",
   "metadata": {},
   "source": [
    "---\n",
    "\n",
    "## Slicing Lists and Strings\n",
    "Subsets of lists and strings can be accessed by specifying ranges of values in brackets, similar to how we accessed ranges of positions in a NumPy array. This is commonly referred to as “slicing” the list/string."
   ]
  },
  {
   "cell_type": "code",
   "execution_count": 18,
   "metadata": {},
   "outputs": [],
   "source": [
    "# Instatiating a string\n",
    "binomial_name = \"Drosophila melanogaster\""
   ]
  },
  {
   "cell_type": "code",
   "execution_count": 19,
   "metadata": {},
   "outputs": [
    {
     "name": "stdout",
     "output_type": "stream",
     "text": [
      "group: Drosophila\n"
     ]
    }
   ],
   "source": [
    "# Slicing a string\n",
    "group = binomial_name[0:10]\n",
    "print(\"group:\", group)"
   ]
  },
  {
   "cell_type": "code",
   "execution_count": 20,
   "metadata": {},
   "outputs": [
    {
     "name": "stdout",
     "output_type": "stream",
     "text": [
      "species: melanogaster\n"
     ]
    }
   ],
   "source": [
    "# Slicing a string cont.\n",
    "species = binomial_name[11:23]\n",
    "print(\"species:\", species)"
   ]
  },
  {
   "cell_type": "code",
   "execution_count": 21,
   "metadata": {},
   "outputs": [
    {
     "name": "stdout",
     "output_type": "stream",
     "text": [
      "autosomes: ['2', '3', '4']\n"
     ]
    }
   ],
   "source": [
    "# Instantiating and slicing a list\n",
    "chromosomes = [\"X\", \"Y\", \"2\", \"3\", \"4\"]\n",
    "autosomes = chromosomes[2:5]\n",
    "print(\"autosomes:\", autosomes)"
   ]
  },
  {
   "cell_type": "code",
   "execution_count": 39,
   "metadata": {},
   "outputs": [
    {
     "name": "stdout",
     "output_type": "stream",
     "text": [
      "last: 4\n"
     ]
    }
   ],
   "source": [
    "# Slicing the last element of a list\n",
    "last = chromosomes[-1]\n",
    "print(f\"last: {last}\")"
   ]
  },
  {
   "cell_type": "markdown",
   "metadata": {},
   "source": [
    "If you want to take a slice from the beginning of a sequence, you can omit the first index in the range:"
   ]
  },
  {
   "cell_type": "code",
   "execution_count": 23,
   "metadata": {},
   "outputs": [],
   "source": [
    "# Instantiating a date string\n",
    "date = \"Monday 4 January 2016\""
   ]
  },
  {
   "cell_type": "code",
   "execution_count": 24,
   "metadata": {},
   "outputs": [
    {
     "name": "stdout",
     "output_type": "stream",
     "text": [
      "Using 0 to begin range: Monday\n"
     ]
    }
   ],
   "source": [
    "# Slicing with a start range index\n",
    "day = date[0:6]\n",
    "print(\"Using 0 to begin range:\", day)"
   ]
  },
  {
   "cell_type": "code",
   "execution_count": 25,
   "metadata": {},
   "outputs": [
    {
     "name": "stdout",
     "output_type": "stream",
     "text": [
      "Omitting beginning index: Monday\n"
     ]
    }
   ],
   "source": [
    "# Slicing without a start range index\n",
    "day = date[:6]\n",
    "print(\"Omitting beginning index:\", day)"
   ]
  },
  {
   "cell_type": "markdown",
   "metadata": {},
   "source": [
    "And similarly, you can omit the ending index in the range to take a slice to the very end of the sequence:"
   ]
  },
  {
   "cell_type": "code",
   "execution_count": 26,
   "metadata": {},
   "outputs": [],
   "source": [
    "# Instantiating a list of months\n",
    "months = [\n",
    "    \"jan\",\n",
    "    \"feb\",\n",
    "    \"mar\",\n",
    "    \"apr\",\n",
    "    \"may\",\n",
    "    \"jun\",\n",
    "    \"jul\",\n",
    "    \"aug\",\n",
    "    \"sep\",\n",
    "    \"oct\",\n",
    "    \"nov\",\n",
    "    \"dec\",\n",
    "]"
   ]
  },
  {
   "cell_type": "code",
   "execution_count": 27,
   "metadata": {},
   "outputs": [
    {
     "name": "stdout",
     "output_type": "stream",
     "text": [
      "With known last position: ['sep', 'oct', 'nov', 'dec']\n"
     ]
    }
   ],
   "source": [
    "# Slicing with an end range index\n",
    "sond = months[8:12]\n",
    "print(\"With known last position:\", sond)"
   ]
  },
  {
   "cell_type": "code",
   "execution_count": 29,
   "metadata": {},
   "outputs": [
    {
     "name": "stdout",
     "output_type": "stream",
     "text": [
      "Omitting ending index: ['sep', 'oct', 'nov', 'dec']\n"
     ]
    }
   ],
   "source": [
    "# Slicing without an end range index\n",
    "sond = months[8:]\n",
    "print(\"Omitting ending index:\", sond)"
   ]
  },
  {
   "cell_type": "code",
   "execution_count": 28,
   "metadata": {},
   "outputs": [
    {
     "name": "stdout",
     "output_type": "stream",
     "text": [
      "Using len() to get last entry: ['sep', 'oct', 'nov', 'dec']\n"
     ]
    }
   ],
   "source": [
    "# Slicing using the len() function\n",
    "sond = months[8 : len(months)]\n",
    "print(\"Using len() to get last entry:\", sond)"
   ]
  },
  {
   "cell_type": "markdown",
   "metadata": {},
   "source": [
    "---\n",
    "\n",
    "## 🏆 Exercises\n",
    "\n",
    "### ✏️ Exercise 1 : Slicing from the End\n",
    "Use slicing to access only the last four characters of a string or entries of a list."
   ]
  },
  {
   "cell_type": "code",
   "execution_count": 30,
   "metadata": {},
   "outputs": [],
   "source": [
    "string_for_slicing = \"Observation date: 02-Feb-2013\"\n",
    "list_for_slicing = [\n",
    "    [\"fluorine\", \"F\"],\n",
    "    [\"chlorine\", \"Cl\"],\n",
    "    [\"bromine\", \"Br\"],\n",
    "    [\"iodine\", \"I\"],\n",
    "    [\"astatine\", \"At\"],\n",
    "]"
   ]
  },
  {
   "cell_type": "code",
   "execution_count": 41,
   "metadata": {},
   "outputs": [
    {
     "data": {
      "text/plain": [
       "'2013'"
      ]
     },
     "execution_count": 41,
     "metadata": {},
     "output_type": "execute_result"
    }
   ],
   "source": [
    "# 1a.\n",
    "string_for_slicing[-4:]"
   ]
  },
  {
   "cell_type": "code",
   "execution_count": 40,
   "metadata": {},
   "outputs": [
    {
     "data": {
      "text/plain": [
       "[['chlorine', 'Cl'], ['bromine', 'Br'], ['iodine', 'I'], ['astatine', 'At']]"
      ]
     },
     "execution_count": 40,
     "metadata": {},
     "output_type": "execute_result"
    }
   ],
   "source": [
    "# 1b.\n",
    "list_for_slicing[-4:]"
   ]
  },
  {
   "cell_type": "markdown",
   "metadata": {},
   "source": [
    "Would your solution work regardless of whether you knew beforehand the length of the string or list (e.g. if you wanted to apply the solution to a set of lists of different lengths)? If not, try to change your approach to make it more robust.\n",
    "\n",
    "Hint: Remember that indices can be negative as well as positive"
   ]
  },
  {
   "cell_type": "markdown",
   "metadata": {},
   "source": [
    "### ✏️ Exercise 2 : Non-Continuous Slices\n",
    "\n",
    "So far we’ve seen how to use slicing to take single blocks of successive entries from a sequence. But what if we want to take a subset of entries that aren’t next to each other in the sequence?\n",
    "\n",
    "You can achieve this by providing a third argument to the range within the brackets, called the *step size*. The example below shows how you can take every third entry in a list:"
   ]
  },
  {
   "cell_type": "code",
   "execution_count": 42,
   "metadata": {},
   "outputs": [
    {
     "name": "stdout",
     "output_type": "stream",
     "text": [
      "subset [2, 7, 17, 29]\n"
     ]
    }
   ],
   "source": [
    "primes = [2, 3, 5, 7, 11, 13, 17, 19, 23, 29, 31, 37]\n",
    "subset = primes[0:12:3]\n",
    "print(\"subset\", subset)"
   ]
  },
  {
   "cell_type": "markdown",
   "metadata": {},
   "source": [
    "Notice that the slice taken begins with the first entry in the range, followed by entries taken at equally-spaced intervals (the steps) thereafter. If you wanted to begin the subset with the third entry, you would need to specify that as the starting point of the sliced range:"
   ]
  },
  {
   "cell_type": "code",
   "execution_count": 34,
   "metadata": {},
   "outputs": [
    {
     "name": "stdout",
     "output_type": "stream",
     "text": [
      "subset [5, 13, 23, 37]\n"
     ]
    }
   ],
   "source": [
    "primes = [2, 3, 5, 7, 11, 13, 17, 19, 23, 29, 31, 37]\n",
    "subset = primes[2:12:3]\n",
    "print(\"subset\", subset)"
   ]
  },
  {
   "cell_type": "markdown",
   "metadata": {},
   "source": [
    "Use the step size argument to create a new string that contains only every other character in the string “In an octopus’s garden in the shade”. \n",
    "\n",
    "Start with creating a variable to hold the string:\n"
   ]
  },
  {
   "cell_type": "code",
   "execution_count": 35,
   "metadata": {},
   "outputs": [],
   "source": [
    "beatles = \"In an octopus's garden in the shade\""
   ]
  },
  {
   "cell_type": "markdown",
   "metadata": {},
   "source": [
    "Your output should be `I notpssgre ntesae`"
   ]
  },
  {
   "cell_type": "code",
   "execution_count": 43,
   "metadata": {},
   "outputs": [
    {
     "data": {
      "text/plain": [
       "'I notpssgre ntesae'"
      ]
     },
     "execution_count": 43,
     "metadata": {},
     "output_type": "execute_result"
    }
   ],
   "source": [
    "# 1.\n",
    "beatles[::2]"
   ]
  },
  {
   "cell_type": "markdown",
   "metadata": {},
   "source": [
    "### ✏️ Exercise 3 : Overloading\n",
    "\n",
    "`+` usually means addition, but when used on strings or lists, it means *“concatenate”*. \n",
    "\n",
    "Given that, what do you think the multiplication operator * does on lists? In particular, what will be the output of the following code?\n",
    "1. [2, 4, 6, 8, 10, 2, 4, 6, 8, 10]\n",
    "2. [4, 8, 12, 16, 20]\n",
    "3. [[2, 4, 6, 8, 10], [2, 4, 6, 8, 10]]\n",
    "4. [2, 4, 6, 8, 10, 4, 8, 12, 16, 20]\n"
   ]
  },
  {
   "cell_type": "code",
   "execution_count": 44,
   "metadata": {},
   "outputs": [
    {
     "name": "stdout",
     "output_type": "stream",
     "text": [
      "[2, 4, 6, 8, 10, 2, 4, 6, 8, 10]\n"
     ]
    }
   ],
   "source": [
    "counts = [2, 4, 6, 8, 10]\n",
    "repeats = counts * 2\n",
    "\n",
    "print(repeats)"
   ]
  },
  {
   "cell_type": "markdown",
   "metadata": {},
   "source": []
  },
  {
   "cell_type": "markdown",
   "metadata": {},
   "source": [
    "The technical term for this is operator overloading: a single operator, like `+` or `*`, can do different things depending on what it’s applied to."
   ]
  },
  {
   "cell_type": "markdown",
   "metadata": {},
   "source": [
    "---\n",
    "\n",
    "## 🔑 Key Points\n",
    "- `[value1, value2, value3, ...]` creates a list.\n",
    "- Lists can contain any Python object, including lists (i.e., list of lists).\n",
    "- Lists are indexed and sliced with square brackets (e.g., `list[0]` and `list[2:9]`), in the same way as strings and arrays.\n",
    "- Lists are mutable (i.e., their values can be changed in place).\n",
    "- Strings are immutable (i.e., the characters in them cannot be changed)."
   ]
  }
 ],
 "metadata": {
  "kernelspec": {
   "display_name": "Python 3",
   "language": "python",
   "name": "python3"
  },
  "language_info": {
   "codemirror_mode": {
    "name": "ipython",
    "version": 3
   },
   "file_extension": ".py",
   "mimetype": "text/x-python",
   "name": "python",
   "nbconvert_exporter": "python",
   "pygments_lexer": "ipython3",
   "version": "3.12.4"
  }
 },
 "nbformat": 4,
 "nbformat_minor": 2
}
