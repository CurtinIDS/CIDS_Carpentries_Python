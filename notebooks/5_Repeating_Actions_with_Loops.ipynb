{
 "cells": [
  {
   "cell_type": "markdown",
   "metadata": {},
   "source": [
    "# CIDS Carpentries Workshop - Episode 5 - Repeating Actions with Loops\n",
    "This lesson is adapted from the Software Carpentries [Programming with Python](https://swcarpentry.github.io/python-novice-inflammation/index.html) lesson.\n",
    "\n",
    "---"
   ]
  },
  {
   "cell_type": "markdown",
   "metadata": {},
   "source": [
    "## ❓ Questions and Objectives\n",
    "What should you be able to answer by the end of this episode?\n",
    "\n",
    "### Questions\n",
    "- How can I do the same operations on many different values?\n",
    "\n",
    "\n",
    "### Objectives\n",
    "- Explain what a `for` loop does.\n",
    "- Correctly write `for` loops to repeat simple calculations.\n",
    "- Trace changes to a loop variable as the loop runs.\n",
    "- Trace changes to other variables as they are updated by a `for` loop.\n",
    "\n",
    "---\n"
   ]
  },
  {
   "cell_type": "markdown",
   "metadata": {},
   "source": [
    "In the previous episode about *visualizing data*, we wrote Python code that plots values of interest from our first inflammation dataset (*inflammation-01.csv*), which revealed some suspicious features in it.\n",
    "\n",
    "![Inflammation-01 Plots](../assets/03-loop_2_0.png)\n",
    "\n",
    "We have a dozen datasets right now, and potentially more on the way if Dr. Maverick can keep up their surprisingly fast clinical trial rate. We want to create plots for all of our data sets with a single statement. To do that, we’ll have to teach the computer how to repeat things.\n",
    "\n",
    "---"
   ]
  },
  {
   "cell_type": "markdown",
   "metadata": {},
   "source": [
    "## Looping through a List\n",
    "\n",
    "An example task that we might want to repeat is accessing numbers in a list, which we will do by printing each number on a line of its own."
   ]
  },
  {
   "cell_type": "code",
   "execution_count": null,
   "metadata": {},
   "outputs": [],
   "source": [
    "# Instantiate a list of odd numbers\n",
    "odds = [1, 3, 5, 7]"
   ]
  },
  {
   "cell_type": "markdown",
   "metadata": {},
   "source": [
    "In Python, a list is basically an ordered collection of elements, and every element has a unique number associated with it — its *index*. This means that we can access elements in a list using their indices. \n",
    "\n",
    "For example, we can get the first number in the list odds, by using `odds[0]`. One way to print each number is to use four `print` statements:"
   ]
  },
  {
   "cell_type": "code",
   "execution_count": null,
   "metadata": {},
   "outputs": [],
   "source": [
    "# Print the list elements individually\n",
    "print(odds[0])\n",
    "print(odds[1])\n",
    "print(odds[2])\n",
    "print(odds[3])"
   ]
  },
  {
   "cell_type": "markdown",
   "metadata": {},
   "source": [
    "This is a bad approach for three reasons:\n",
    "\n",
    "1. **Not scalable.** Imagine you need to print a list that has hundreds of elements. It might be easier to type them in manually.\n",
    "\n",
    "2. **Difficult to maintain.** If we want to decorate each printed element with an asterisk or any other character, we would have to change four lines of code. While this might not be a problem for small lists, it would definitely be a problem for longer ones.\n",
    "\n",
    "3. **Fragile.** If we use it with a list that has more elements than what we initially envisioned, it will only display part of the list’s elements. A shorter list, on the other hand, will cause an error because it will be trying to display elements of the list that do not exist."
   ]
  },
  {
   "cell_type": "code",
   "execution_count": null,
   "metadata": {},
   "outputs": [],
   "source": [
    "# Example of fragile code\n",
    "odds = [1, 3, 5]\n",
    "print(odds[0])\n",
    "print(odds[1])\n",
    "print(odds[2])\n",
    "print(odds[3])"
   ]
  },
  {
   "cell_type": "markdown",
   "metadata": {},
   "source": [
    "A better approach would be to use a `for` loop."
   ]
  },
  {
   "cell_type": "code",
   "execution_count": null,
   "metadata": {},
   "outputs": [],
   "source": [
    "# Example of a for loop\n",
    "odds = [1, 3, 5, 7]\n",
    "for number in odds:\n",
    "    print(number)"
   ]
  },
  {
   "cell_type": "markdown",
   "metadata": {},
   "source": [
    "This is shorter — certainly shorter than something that prints every number in a hundred-number list — and more robust as well:"
   ]
  },
  {
   "cell_type": "code",
   "execution_count": null,
   "metadata": {},
   "outputs": [],
   "source": [
    "odds = [1, 3, 5, 7, 9, 11]\n",
    "for number in odds:\n",
    "    print(number)"
   ]
  },
  {
   "cell_type": "markdown",
   "metadata": {},
   "source": [
    "The improved version uses a for loop to repeat an operation — in this case, printing — once for each thing in a sequence."
   ]
  },
  {
   "cell_type": "markdown",
   "metadata": {},
   "source": [
    "Using the odds example above, the loop might look like this:\n",
    "\n",
    "![Odds Loop](../assets/05-loops_image_num.png)\n",
    "\n",
    "where each number (`num`) in the variable `odds` is looped through and printed one number after another. The other numbers in the diagram denote which loop cycle the number was printed in (1 being the first loop cycle, and 6 being the final loop cycle).\n",
    "\n",
    "---"
   ]
  },
  {
   "cell_type": "markdown",
   "metadata": {},
   "source": [
    "## Naming Loop Variables\n",
    "We can call the loop variable anything we like, but there must be a colon `:` at the end of the line starting the loop, and we must indent anything we want to run inside the loop. \n",
    "\n",
    "Unlike many other languages, there is no command to signify the end of the loop body (e.g. `end for`); everything indented after the `for` statement belongs to the loop."
   ]
  },
  {
   "cell_type": "markdown",
   "metadata": {},
   "source": [
    "In the example above, the loop variable was given the name `number`. We can choose any name we want for variables. We might just as easily have chosen the name `banana` for the loop variable, as long as we use the same name when we invoke the variable inside the loop."
   ]
  },
  {
   "cell_type": "code",
   "execution_count": null,
   "metadata": {},
   "outputs": [],
   "source": [
    "odds = [1, 3, 5, 7, 9, 11]\n",
    "\n",
    "for banana in odds:\n",
    "    print(banana)"
   ]
  },
  {
   "cell_type": "markdown",
   "metadata": {},
   "source": [
    "It is a good idea to choose variable names that are meaningful, otherwise it would be more difficult to understand what the loop is doing.\n",
    "\n",
    "---"
   ]
  },
  {
   "cell_type": "markdown",
   "metadata": {},
   "source": [
    "## Updating Variables using Loops\n",
    "\n",
    "Below is a loop that repeatedly updates a variable."
   ]
  },
  {
   "cell_type": "code",
   "execution_count": null,
   "metadata": {},
   "outputs": [],
   "source": [
    "length = 0\n",
    "\n",
    "names = [\"Curie\", \"Darwin\", \"Turing\"]\n",
    "\n",
    "for value in names:\n",
    "    length += 1\n",
    "print(f\"There are {length} names in the list.\")"
   ]
  },
  {
   "cell_type": "markdown",
   "metadata": {},
   "source": [
    "It's worth tracing the execution of this little program step by step.\n",
    "\n",
    "Since there are three names in `names`, the statement will be executed three times.\n",
    "1. The first time around, `length` is zero and the `value` is `Curie`. The statement adds 1 to the old value of `length` producing 1, and updates `length` to refer to that new value.\n",
    "2. The next time around, `value` is `Darwin` and `length` is 1, so `length` is updated to be 2.\n",
    "3. After one more update, `length` is 3; since there is nothing left in `names` for Python to process, the loop finishes and the `print` function tell us the final answer."
   ]
  },
  {
   "cell_type": "markdown",
   "metadata": {},
   "source": [
    "Note that a loop variable is a variable that is being used to record progress in a loop. It still exists after the loop is over, and we can re-use variables previously defined as loop variables as well:"
   ]
  },
  {
   "cell_type": "code",
   "execution_count": null,
   "metadata": {},
   "outputs": [],
   "source": [
    "name = \"Rosalind\"\n",
    "for name in [\"Curie\", \"Darwin\", \"Turing\"]:\n",
    "    print(name)\n",
    "print(\"after the loop, name is\", name)"
   ]
  },
  {
   "cell_type": "markdown",
   "metadata": {},
   "source": [
    "Note also that finding the length of an object is such a common operation that Python actually has a built-in function to do it called `len`:"
   ]
  },
  {
   "cell_type": "code",
   "execution_count": null,
   "metadata": {},
   "outputs": [],
   "source": [
    "print(len([0, 1, 2, 3]))"
   ]
  },
  {
   "cell_type": "markdown",
   "metadata": {},
   "source": [
    "`len` is much faster than any function we could write ourselves, and much easier to read than a two-line loop; it will also give us the length of many other things that we haven’t met yet, so we should always use it when we can."
   ]
  },
  {
   "cell_type": "markdown",
   "metadata": {},
   "source": [
    "---\n",
    "\n",
    "## 🏆 Exercises"
   ]
  },
  {
   "cell_type": "markdown",
   "metadata": {},
   "source": [
    "### ✏️ Exercise 1 : from 1 to N\n",
    "\n",
    "Python has a built-in function called `range` that generates a sequence of numbers. `range` can accept 1, 2, or 3 parameters.\n",
    "\n",
    "- If one parameter is given, `range` generates a sequence of that length, starting at zero and incrementing by 1. For example, `range(3)` produces the numbers `0, 1, 2`.\n",
    "- If two parameters are given, `range` starts at the first and ends just before the second, incrementing by one. For example, `range(2, 5)` produces `2, 3, 4`.\n",
    "- If `range` is given 3 parameters, it starts at the first one, ends just before the second one, and increments by the third one. For example, `range(3, 10, 2)` produces `3, 5, 7, 9`.\n",
    "\n",
    "Using `range`, write a loop that prints the first 3 natural numbers:"
   ]
  },
  {
   "cell_type": "code",
   "execution_count": null,
   "metadata": {},
   "outputs": [],
   "source": [
    "# Solution to the exercise"
   ]
  },
  {
   "cell_type": "markdown",
   "metadata": {},
   "source": [
    "### ✏️ Exercise 2 : Understanding Loops\n",
    "\n",
    "Given the following loop, how many time is the body of the loop executed?\n",
    "1. 3 times?\n",
    "2. 4 times?\n",
    "3. 5 times?\n",
    "4. 6 times?"
   ]
  },
  {
   "cell_type": "code",
   "execution_count": null,
   "metadata": {},
   "outputs": [],
   "source": [
    "word = \"oxygen\"\n",
    "for letter in word:\n",
    "    print(letter)"
   ]
  },
  {
   "cell_type": "markdown",
   "metadata": {},
   "source": [
    "### ✏️ Exercise 3 : Computing Powers with Loops\n",
    "\n",
    "Exponentiation is built into Python:"
   ]
  },
  {
   "cell_type": "code",
   "execution_count": null,
   "metadata": {},
   "outputs": [],
   "source": [
    "print(5**3)"
   ]
  },
  {
   "cell_type": "markdown",
   "metadata": {},
   "source": [
    "Write a loop that calculates the same result as `5 ** 3` using multiplication (and without exponentiation)."
   ]
  },
  {
   "cell_type": "code",
   "execution_count": null,
   "metadata": {},
   "outputs": [],
   "source": [
    "# Solution to the exercise"
   ]
  },
  {
   "cell_type": "markdown",
   "metadata": {},
   "source": [
    "### ✏️ Exercise 4 : Summing a List\n",
    "\n",
    "Write a `loop` that calculates the sum of elements in a list by adding each element and printing the final value, so `[124, 402, 36]` prints 562."
   ]
  },
  {
   "cell_type": "code",
   "execution_count": null,
   "metadata": {},
   "outputs": [],
   "source": [
    "# Solution to the exercise"
   ]
  },
  {
   "cell_type": "markdown",
   "metadata": {},
   "source": [
    "### ✏️ Exercise 5 : Computing the Value of a Polynomial\n",
    "\n",
    "The built-in function `enumerate` takes a sequence (e.g. a list) and generates a new sequence of the same length. Each element of the new sequence is a `pair` composed of the index (0, 1, 2, ...) and the value from the original sequence."
   ]
  },
  {
   "cell_type": "code",
   "execution_count": null,
   "metadata": {},
   "outputs": [],
   "source": [
    "a_list = [\"a\", \"b\", \"c\", \"d\"]\n",
    "\n",
    "for idx, val in enumerate(a_list):\n",
    "    print(idx, val)"
   ]
  },
  {
   "cell_type": "markdown",
   "metadata": {},
   "source": [
    "The code above loops through `a_list`, assigning the index to `idx` and the value to `val`.\n",
    "\n",
    "Suppose you have encoded a polynomial as a list of coefficients in the following way: \n",
    "1. the first element is the constant term\n",
    "2. the second element is the coefficient of the linear term\n",
    "3. the third is the coefficient of the quadratic term, etc."
   ]
  },
  {
   "cell_type": "code",
   "execution_count": null,
   "metadata": {},
   "outputs": [],
   "source": [
    "x = 5\n",
    "coefs = [2, 4, 3]\n",
    "y = coefs[0] * x**0 + coefs[1] * x**1 + coefs[2] * x**2\n",
    "print(y)"
   ]
  },
  {
   "cell_type": "markdown",
   "metadata": {},
   "source": [
    "Write a loop using `enumerate(coefs)` which computes the value `y` of any polynomial, given `x` and `coefs`."
   ]
  },
  {
   "cell_type": "code",
   "execution_count": null,
   "metadata": {},
   "outputs": [],
   "source": [
    "# Solution to the exercise"
   ]
  },
  {
   "cell_type": "markdown",
   "metadata": {},
   "source": [
    "---\n",
    "\n",
    "## 🔑 Key Points\n",
    "- Use `for variable` in sequence to process the elements of a sequence one at a time.\n",
    "- The body of a `for` loop must be indented.\n",
    "- Use `len(thing`) to determine the length of something that contains other values."
   ]
  }
 ],
 "metadata": {
  "kernelspec": {
   "display_name": "Python 3",
   "language": "python",
   "name": "python3"
  },
  "language_info": {
   "codemirror_mode": {
    "name": "ipython",
    "version": 3
   },
   "file_extension": ".py",
   "mimetype": "text/x-python",
   "name": "python",
   "nbconvert_exporter": "python",
   "pygments_lexer": "ipython3",
   "version": "3.11.9"
  }
 },
 "nbformat": 4,
 "nbformat_minor": 2
}
